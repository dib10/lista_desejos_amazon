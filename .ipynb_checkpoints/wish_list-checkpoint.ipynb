{
 "cells": [
  {
   "cell_type": "code",
   "execution_count": 459,
   "id": "45369cb4-e4e4-4b95-b176-f2226c84988e",
   "metadata": {},
   "outputs": [],
   "source": [
    "from bs4 import BeautifulSoup\n",
    "import requests\n",
    "from selenium import webdriver\n",
    "import time\n",
    "\n"
   ]
  },
  {
   "cell_type": "markdown",
   "id": "39d4e7f4-8fc5-4c15-a208-e4bf90913895",
   "metadata": {},
   "source": [
    "## Configurando driver e url\n"
   ]
  },
  {
   "cell_type": "code",
   "execution_count": 461,
   "id": "fcbe4689-5d04-45f6-b392-526c750eeca1",
   "metadata": {},
   "outputs": [
    {
     "name": "stdout",
     "output_type": "stream",
     "text": [
      "Sucesso ao acessar: Amazon.com.br\n"
     ]
    }
   ],
   "source": [
    "inicio_script = time.time()\n",
    "\n",
    "\n",
    "driver = webdriver.Chrome()\n",
    "\n",
    "url = 'https://www.amazon.com.br/hz/wishlist/ls/2FJRI71SN2K0L?ref_=wl_share'\n",
    "\n",
    "driver.get(url)\n",
    "\n",
    "if driver.title: #se captar o título da página = sucesso\n",
    "    print(f'Sucesso ao acessar: {driver.title}')\n",
    "else:\n",
    "    print(f'Erro ao acessar.')\n",
    "\n",
    "\n"
   ]
  },
  {
   "cell_type": "markdown",
   "id": "d20571f4-57fb-4188-b26f-5e71ce670fda",
   "metadata": {},
   "source": [
    "## Carregando nome da lista de compras"
   ]
  },
  {
   "cell_type": "code",
   "execution_count": 463,
   "id": "986ce0da-8e5d-43c4-9d96-bb936823e432",
   "metadata": {},
   "outputs": [
    {
     "name": "stdout",
     "output_type": "stream",
     "text": [
      "Lista: \"Comprinhas\" carregada com sucesso!\n"
     ]
    }
   ],
   "source": [
    "html = driver.page_source\n",
    "\n",
    "soup = BeautifulSoup(html, 'html.parser')\n",
    "\n",
    "nome_lista = soup.find('span', {'id': 'profile-list-name'})\n",
    "if nome_lista:\n",
    "    print(f'Lista: \"{nome_lista.text}\" carregada com sucesso!')\n",
    "else:\n",
    "    print(f'Nome da lista de compras não encontrada')\n"
   ]
  },
  {
   "cell_type": "markdown",
   "id": "26afee38-223b-40f5-9331-eda0c97f6ce6",
   "metadata": {},
   "source": [
    "## Funções"
   ]
  },
  {
   "cell_type": "code",
   "execution_count": 465,
   "id": "48d5a43d-495a-419f-9c3e-fdee6e47af13",
   "metadata": {},
   "outputs": [],
   "source": [
    "def carregar_pagina(driver,url):\n",
    "    driver.get(url)\n",
    "    return driver.page_source\n",
    "\n",
    "def extrair_nome_lista(soup):\n",
    "    nome_lista = soup.find('span', {'id': 'profile-list-name'})\n",
    "    return nome_lista.text if nome_lista else 'Nome não encontrado'\n",
    "\n",
    "def extrair_itens_lista(soup):\n",
    "    itens = soup.find_all('li', {'class': 'g-item-sortable'})\n",
    "    return [extrair_dados_item(item) for item in itens]\n",
    "\n",
    "def extrair_dados_itens(item):\n",
    "    dados_item = {}\n",
    "    dados_item['nome'] = item.find('a', {'class': 'a-link-normal'}).get('title', 'Nome não encontrado')\n",
    "    dados_item['link'] = f\"https://www.amazon.com.br{item.find('a', {'class': 'a-link-normal'}).get('href', '')}\"\n",
    "    dados_item['imagem'] = item.find('img').get('src', 'Imagem não encontrada') if item.find('img') else 'Imagem não encontrada'\n",
    "    dados_item['preco'] = item.find('span', {'aria-hidden': 'true'}).text.strip() if item.find('span', {'aria-hidden': 'true'}) else 'Preço indisponível'\n",
    "    return dados_item"
   ]
  },
  {
   "cell_type": "code",
   "execution_count": 466,
   "id": "71996626-7ca1-4454-8a10-6e2badb23257",
   "metadata": {},
   "outputs": [
    {
     "name": "stdout",
     "output_type": "stream",
     "text": [
      "Lista: Comprinhas - Carregada com sucesso!\n",
      "Itens encontrados na lista: 4\n",
      "\n",
      "Nome: Cabo de rede HP Cat.6 Blindado 2metros Azul DHC-CAT6-FTP - 8WW60AA\n",
      "Link: https://www.amazon.com.br/dp/B08JZCCZ35/?coliid=I30XMCPHNDLIY2&colid=2FJRI71SN2K0L&psc=0&ref_=list_c_wl_gv_vv_lig_pi_dp\n",
      "Imagem: https://m.media-amazon.com/images/I/41og2oYjSqL._SS220_.jpg\n",
      "Preco: Preço não encontrado\n",
      "----------\n",
      "Nome: Capa Case Para Notebook de 15,6 Polegadas\n",
      "Link: https://www.amazon.com.br/dp/B078ZJWFMD/?coliid=I1AQ6QKLO09Y2S&colid=2FJRI71SN2K0L&psc=1&ref_=list_c_wl_gv_vv_lig_pi_dp\n",
      "Imagem: https://m.media-amazon.com/images/I/31w4jVaysfL._SS220_.jpg\n",
      "Preco: R$39,90\n",
      "----------\n",
      "Nome: A divina comédia: Edição com brinde - pôster exclusivo\n",
      "Link: https://www.amazon.com.br/dp/6559100154/?coliid=I24DLVM7R49BX1&colid=2FJRI71SN2K0L&psc=1&ref_=list_c_wl_gv_vv_lig_pi_dp\n",
      "Imagem: https://m.media-amazon.com/images/I/415DIokyyHL._SS220_.jpg\n",
      "Preco: R$97,12\n",
      "----------\n",
      "Nome: Controle Usb Snes Super Nintendo Para Pc Raspberry Mac Linux\n",
      "Link: https://www.amazon.com.br/dp/B07DC2SMWC/?coliid=I32DGOWNGJNIW9&colid=2FJRI71SN2K0L&psc=1&ref_=list_c_wl_gv_vv_lig_pi_dp\n",
      "Imagem: https://m.media-amazon.com/images/I/31wd6xQR4DL._SS220_.jpg\n",
      "Preco: R$24,75\n",
      "----------\n"
     ]
    }
   ],
   "source": [
    "\n",
    "nome_lista = extrair_nome_lista(soup)\n",
    "print(f'Lista: {nome_lista} - Carregada com sucesso!')\n",
    "\n",
    "\n",
    "itens_lista = extrair_itens_lista(soup)\n",
    "if itens_lista:\n",
    "    print(f'Itens encontrados na lista: {len(itens_lista)}\\n')\n",
    "    for item in itens_lista:\n",
    "        for chave, valor in item.items():\n",
    "            print(f'{chave.capitalize()}: {valor}')\n",
    "        print(f'----------')\n",
    "    \n",
    "else:\n",
    "    print(f'Itens da lista não encontrados')\n"
   ]
  },
  {
   "cell_type": "markdown",
   "id": "78822c06-8f34-4ceb-8b1c-ab3c15eba4e1",
   "metadata": {},
   "source": [
    "## Fechar navegador"
   ]
  },
  {
   "cell_type": "code",
   "execution_count": 468,
   "id": "bee54f5d-5ab9-4791-84e8-adc611904eb7",
   "metadata": {},
   "outputs": [
    {
     "name": "stdout",
     "output_type": "stream",
     "text": [
      "Tempo total do script: 20.02 segundos\n"
     ]
    }
   ],
   "source": [
    "driver.quit()\n",
    "\n",
    "\n",
    "fim_script = time.time()\n",
    "tempo_total_script = fim_script - inicio_script\n",
    "\n",
    "print(f'Tempo total do script: {tempo_total_script:.2f} segundos')"
   ]
  },
  {
   "cell_type": "code",
   "execution_count": null,
   "id": "e8b3a683-760a-400c-a02c-dd1d485d6ddf",
   "metadata": {},
   "outputs": [],
   "source": []
  }
 ],
 "metadata": {
  "kernelspec": {
   "display_name": "Python 3 (ipykernel)",
   "language": "python",
   "name": "python3"
  },
  "language_info": {
   "codemirror_mode": {
    "name": "ipython",
    "version": 3
   },
   "file_extension": ".py",
   "mimetype": "text/x-python",
   "name": "python",
   "nbconvert_exporter": "python",
   "pygments_lexer": "ipython3",
   "version": "3.12.3"
  }
 },
 "nbformat": 4,
 "nbformat_minor": 5
}
