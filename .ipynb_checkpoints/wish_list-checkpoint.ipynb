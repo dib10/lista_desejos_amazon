{
 "cells": [
  {
   "cell_type": "code",
   "execution_count": 47,
   "id": "45369cb4-e4e4-4b95-b176-f2226c84988e",
   "metadata": {},
   "outputs": [],
   "source": [
    "from bs4 import BeautifulSoup\n",
    "import requests\n",
    "from selenium import webdriver\n",
    "import time\n",
    "from datetime import datetime\n",
    "import re\n"
   ]
  },
  {
   "cell_type": "markdown",
   "id": "39d4e7f4-8fc5-4c15-a208-e4bf90913895",
   "metadata": {},
   "source": [
    "## Configurando driver e url\n"
   ]
  },
  {
   "cell_type": "code",
   "execution_count": 49,
   "id": "fcbe4689-5d04-45f6-b392-526c750eeca1",
   "metadata": {},
   "outputs": [
    {
     "name": "stdout",
     "output_type": "stream",
     "text": [
      "Sucesso ao acessar: Amazon.com.br\n"
     ]
    }
   ],
   "source": [
    "inicio_script = time.time()\n",
    "\n",
    "\n",
    "driver = webdriver.Chrome()\n",
    "\n",
    "url = 'https://www.amazon.com.br/hz/wishlist/ls/2FJRI71SN2K0L?ref_=wl_share' #Coloque aqui o link da sua wishlist\n",
    "\n",
    "driver.get(url)\n",
    "\n",
    "if driver.title: #se captar o título da página = sucesso\n",
    "    print(f'Sucesso ao acessar: {driver.title}')\n",
    "else:\n",
    "    print(f'Erro ao acessar.')\n",
    "\n",
    "\n"
   ]
  },
  {
   "cell_type": "markdown",
   "id": "d20571f4-57fb-4188-b26f-5e71ce670fda",
   "metadata": {},
   "source": [
    "## Carregando nome da lista de compras"
   ]
  },
  {
   "cell_type": "code",
   "execution_count": 51,
   "id": "986ce0da-8e5d-43c4-9d96-bb936823e432",
   "metadata": {},
   "outputs": [
    {
     "name": "stdout",
     "output_type": "stream",
     "text": [
      "Lista: \"Comprinhas\" carregada com sucesso!\n"
     ]
    }
   ],
   "source": [
    "html = driver.page_source\n",
    "\n",
    "soup = BeautifulSoup(html, 'html.parser')\n",
    "\n",
    "nome_lista = soup.find('span', {'id': 'profile-list-name'})\n",
    "if nome_lista:\n",
    "    print(f'Lista: \"{nome_lista.text}\" carregada com sucesso!')\n",
    "else:\n",
    "    print(f'Nome da lista de compras não encontrada')\n"
   ]
  },
  {
   "cell_type": "markdown",
   "id": "26afee38-223b-40f5-9331-eda0c97f6ce6",
   "metadata": {},
   "source": [
    "## Funções"
   ]
  },
  {
   "cell_type": "code",
   "execution_count": 53,
   "id": "48d5a43d-495a-419f-9c3e-fdee6e47af13",
   "metadata": {},
   "outputs": [],
   "source": [
    "def extrair_nome_lista(soup):\n",
    "    nome_lista = soup.find('span', {'id': 'profile-list-name'})\n",
    "    return nome_lista.text if nome_lista else 'Nome não encontrado'\n",
    "\n",
    "def obter_data_extracao():\n",
    "    return datetime.now().strftime(\"%Y-%m-%d %H:%M:%S\")\n",
    "\n",
    "def extrair_itens_lista(soup):\n",
    "    itens = soup.find_all('li', {'class': 'g-item-sortable'})\n",
    "    data_extracao = obter_data_extracao()\n",
    "    return [extrair_dados_itens(item, data_extracao) for item in itens]\n",
    "    \n",
    "\n",
    "\n",
    "def extrair_dados_itens(item, data_extracao):\n",
    "    dados_item = {}\n",
    "    dados_item['nome'] = item.find('a', {'class': 'a-link-normal'}).get('title', 'Nome não encontrado')\n",
    "    dados_item['link'] = f\"https://www.amazon.com.br{item.find('a', {'class': 'a-link-normal'}).get('href', '')}\"\n",
    "    dados_item['imagem'] = item.find('img').get('src', 'Imagem não encontrada') if item.find('img') else 'Imagem não encontrada'\n",
    "    dados_item['asin'] = extrair_codigo_asin(dados_item['link'])\n",
    "    \n",
    "    elemento_preco = item.find('span', {'class': 'a-price'})\n",
    "    if elemento_preco:\n",
    "        preco = elemento_preco.find('span', {'aria-hidden': 'true'}).text.strip()\n",
    "    else:\n",
    "        preco = 'Preço indisponível'\n",
    "    dados_item['preco'] = preco\n",
    "\n",
    "    dados_item['data_extracao'] = data_extracao\n",
    "\n",
    "\n",
    "def extrair_codigo_asin(link):\n",
    "    pattern = r\"/[dg]p/([A-Z0-9]{10})(/|$|\\?)\"\n",
    "    match = re.search(pattern, link)\n",
    "\n",
    "    if match:\n",
    "        asin = match.group(1).upper()\n",
    "        return asin\n",
    "    return None\n",
    "\n",
    "\n",
    "\n",
    "    return dados_item"
   ]
  },
  {
   "cell_type": "markdown",
   "id": "af1076dc-2f90-495e-ba43-2d7dc4d28c29",
   "metadata": {},
   "source": [
    "## Principal"
   ]
  },
  {
   "cell_type": "code",
   "execution_count": 55,
   "id": "71996626-7ca1-4454-8a10-6e2badb23257",
   "metadata": {},
   "outputs": [
    {
     "name": "stdout",
     "output_type": "stream",
     "text": [
      "Lista: Comprinhas - Carregada com sucesso!\n",
      "Itens encontrados na lista: 9\n",
      "\n"
     ]
    },
    {
     "ename": "AttributeError",
     "evalue": "'NoneType' object has no attribute 'items'",
     "output_type": "error",
     "traceback": [
      "\u001b[1;31m---------------------------------------------------------------------------\u001b[0m",
      "\u001b[1;31mAttributeError\u001b[0m                            Traceback (most recent call last)",
      "Cell \u001b[1;32mIn[55], line 9\u001b[0m\n\u001b[0;32m      7\u001b[0m \u001b[38;5;28mprint\u001b[39m(\u001b[38;5;124mf\u001b[39m\u001b[38;5;124m'\u001b[39m\u001b[38;5;124mItens encontrados na lista: \u001b[39m\u001b[38;5;132;01m{\u001b[39;00m\u001b[38;5;28mlen\u001b[39m(itens_lista)\u001b[38;5;132;01m}\u001b[39;00m\u001b[38;5;130;01m\\n\u001b[39;00m\u001b[38;5;124m'\u001b[39m)\n\u001b[0;32m      8\u001b[0m \u001b[38;5;28;01mfor\u001b[39;00m item \u001b[38;5;129;01min\u001b[39;00m itens_lista:\n\u001b[1;32m----> 9\u001b[0m     \u001b[38;5;28;01mfor\u001b[39;00m chave, valor \u001b[38;5;129;01min\u001b[39;00m item\u001b[38;5;241m.\u001b[39mitems():\n\u001b[0;32m     10\u001b[0m         \u001b[38;5;28mprint\u001b[39m(\u001b[38;5;124mf\u001b[39m\u001b[38;5;124m'\u001b[39m\u001b[38;5;132;01m{\u001b[39;00mchave\u001b[38;5;241m.\u001b[39mcapitalize()\u001b[38;5;132;01m}\u001b[39;00m\u001b[38;5;124m: \u001b[39m\u001b[38;5;132;01m{\u001b[39;00mvalor\u001b[38;5;132;01m}\u001b[39;00m\u001b[38;5;124m'\u001b[39m)\n\u001b[0;32m     11\u001b[0m     \u001b[38;5;28mprint\u001b[39m(\u001b[38;5;124mf\u001b[39m\u001b[38;5;124m'\u001b[39m\u001b[38;5;124m----------\u001b[39m\u001b[38;5;124m'\u001b[39m)\n",
      "\u001b[1;31mAttributeError\u001b[0m: 'NoneType' object has no attribute 'items'"
     ]
    }
   ],
   "source": [
    "\n",
    "nome_lista = extrair_nome_lista(soup)\n",
    "print(f'Lista: {nome_lista} - Carregada com sucesso!')\n",
    "\n",
    "\n",
    "itens_lista = extrair_itens_lista(soup)\n",
    "if itens_lista:\n",
    "    print(f'Itens encontrados na lista: {len(itens_lista)}\\n')\n",
    "    for item in itens_lista:\n",
    "        for chave, valor in item.items():\n",
    "            print(f'{chave.capitalize()}: {valor}')\n",
    "        print(f'----------')\n",
    "    \n",
    "else:\n",
    "    print(f'Itens da lista não encontrados')\n"
   ]
  },
  {
   "cell_type": "markdown",
   "id": "78822c06-8f34-4ceb-8b1c-ab3c15eba4e1",
   "metadata": {},
   "source": [
    "## Fechar navegador"
   ]
  },
  {
   "cell_type": "code",
   "execution_count": null,
   "id": "bee54f5d-5ab9-4791-84e8-adc611904eb7",
   "metadata": {},
   "outputs": [],
   "source": [
    "driver.quit()\n",
    "\n",
    "\n",
    "fim_script = time.time()\n",
    "tempo_total_script = fim_script - inicio_script\n",
    "\n",
    "print(f'Tempo total do script: {tempo_total_script:.2f} segundos')"
   ]
  },
  {
   "cell_type": "code",
   "execution_count": null,
   "id": "e8b3a683-760a-400c-a02c-dd1d485d6ddf",
   "metadata": {},
   "outputs": [],
   "source": []
  }
 ],
 "metadata": {
  "kernelspec": {
   "display_name": "Python 3 (ipykernel)",
   "language": "python",
   "name": "python3"
  },
  "language_info": {
   "codemirror_mode": {
    "name": "ipython",
    "version": 3
   },
   "file_extension": ".py",
   "mimetype": "text/x-python",
   "name": "python",
   "nbconvert_exporter": "python",
   "pygments_lexer": "ipython3",
   "version": "3.12.3"
  }
 },
 "nbformat": 4,
 "nbformat_minor": 5
}
