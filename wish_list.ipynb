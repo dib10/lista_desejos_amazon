{
 "cells": [
  {
   "cell_type": "code",
   "execution_count": 52,
   "id": "45369cb4-e4e4-4b95-b176-f2226c84988e",
   "metadata": {},
   "outputs": [],
   "source": [
    "from bs4 import BeautifulSoup\n",
    "import requests\n",
    "from selenium import webdriver\n",
    "import time\n"
   ]
  },
  {
   "cell_type": "markdown",
   "id": "39d4e7f4-8fc5-4c15-a208-e4bf90913895",
   "metadata": {},
   "source": [
    "## Configurando driver e url\n"
   ]
  },
  {
   "cell_type": "code",
   "execution_count": 54,
   "id": "fcbe4689-5d04-45f6-b392-526c750eeca1",
   "metadata": {},
   "outputs": [
    {
     "name": "stdout",
     "output_type": "stream",
     "text": [
      "Sucesso ao acessar: Amazon.com.br\n"
     ]
    }
   ],
   "source": [
    "inicio_script = time.time()\n",
    "\n",
    "\n",
    "driver = webdriver.Chrome()\n",
    "\n",
    "url = 'https://www.amazon.com.br/hz/wishlist/ls/3TSX9V5QWRN9R?ref_=wl_share'\n",
    "\n",
    "driver.get(url)\n",
    "\n",
    "if driver.title: #se captar o título da página = sucesso\n",
    "    print(f'Sucesso ao acessar: {driver.title}')\n",
    "else:\n",
    "    print(f'Erro ao acessar.')\n",
    "\n",
    "\n"
   ]
  },
  {
   "cell_type": "markdown",
   "id": "d20571f4-57fb-4188-b26f-5e71ce670fda",
   "metadata": {},
   "source": [
    "## Carregando nome da lista de compras"
   ]
  },
  {
   "cell_type": "code",
   "execution_count": 56,
   "id": "986ce0da-8e5d-43c4-9d96-bb936823e432",
   "metadata": {},
   "outputs": [
    {
     "name": "stdout",
     "output_type": "stream",
     "text": [
      "Lista: \"Livros \" carregada com sucesso!\n"
     ]
    }
   ],
   "source": [
    "html = driver.page_source\n",
    "\n",
    "soup = BeautifulSoup(html, 'html.parser')\n",
    "\n",
    "nome_lista = soup.find('span', {'id': 'profile-list-name'})\n",
    "if nome_lista:\n",
    "    print(f'Lista: \"{nome_lista.text}\" carregada com sucesso!')\n",
    "else:\n",
    "    print(f'Nome da lista de compras não encontrada')\n"
   ]
  },
  {
   "cell_type": "markdown",
   "id": "26afee38-223b-40f5-9331-eda0c97f6ce6",
   "metadata": {},
   "source": [
    "## Funções"
   ]
  },
  {
   "cell_type": "code",
   "execution_count": 58,
   "id": "48d5a43d-495a-419f-9c3e-fdee6e47af13",
   "metadata": {},
   "outputs": [],
   "source": [
    "def carregar_pagina(driver,url):\n",
    "    driver.get(url)\n",
    "    return driver.page_source\n",
    "\n",
    "def extrair_nome_lista(soup):\n",
    "    nome_lista = soup.find('span', {'id': 'profile-list-name'})\n",
    "    return nome_lista.text if nome_lista else 'Nome não encontrado'\n",
    "\n",
    "def extrair_itens_lista(soup):\n",
    "    itens = soup.find_all('li', {'class': 'g-item-sortable'})\n",
    "    return [extrair_dados_itens(item) for item in itens]\n",
    "\n",
    "def extrair_dados_itens(item):\n",
    "    dados_item = {}\n",
    "    dados_item['nome'] = item.find('a', {'class': 'a-link-normal'}).get('title', 'Nome não encontrado')\n",
    "    dados_item['link'] = f\"https://www.amazon.com.br{item.find('a', {'class': 'a-link-normal'}).get('href', '')}\"\n",
    "    dados_item['imagem'] = item.find('img').get('src', 'Imagem não encontrada') if item.find('img') else 'Imagem não encontrada'\n",
    "    dados_item['preco'] = item.find('span', {'aria-hidden': 'true'}).text.strip() if item.find('span', {'aria-hidden': 'true'}) else 'Preço indisponível'\n",
    "    return dados_item"
   ]
  },
  {
   "cell_type": "code",
   "execution_count": 59,
   "id": "71996626-7ca1-4454-8a10-6e2badb23257",
   "metadata": {},
   "outputs": [
    {
     "name": "stdout",
     "output_type": "stream",
     "text": [
      "Lista: Livros  - Carregada com sucesso!\n",
      "Itens encontrados na lista: 10\n",
      "\n",
      "Nome: Uma farsa de amor na Espanha (Sucesso do TikTok)\n",
      "Link: https://www.amazon.com.br/dp/6555652977/?coliid=I32SK5IZ6IIRD&colid=3TSX9V5QWRN9R&psc=1&ref_=list_c_wl_lv_vv_lig_dp_it_im\n",
      "Imagem: https://m.media-amazon.com/images/I/41sDZUdK+4L._SS135_.jpg\n",
      "Preco: R$43,00\n",
      "----------\n",
      "Nome: Oração para Desaparecer\n",
      "Link: https://www.amazon.com.br/dp/6559215709/?coliid=I24SDRDH3XO4ZW&colid=3TSX9V5QWRN9R&psc=1&ref_=list_c_wl_lv_vv_lig_dp_it_im\n",
      "Imagem: https://m.media-amazon.com/images/I/311o3+q7YGL._SS135_.jpg\n",
      "Preco: R$52,44\n",
      "----------\n",
      "Nome: A lista de convidados\n",
      "Link: https://www.amazon.com.br/dp/6555601507/?coliid=I8NJ8PITN2O09&colid=3TSX9V5QWRN9R&psc=1&ref_=list_c_wl_lv_vv_lig_dp_it_im\n",
      "Imagem: https://m.media-amazon.com/images/I/41OpQ0473IL._SS135_.jpg\n",
      "Preco: R$38,67\n",
      "----------\n",
      "Nome: A última festa\n",
      "Link: https://www.amazon.com.br/dp/8551005723/?coliid=ITZRRP6A4VU7B&colid=3TSX9V5QWRN9R&psc=1&ref_=list_c_wl_lv_vv_lig_dp_it_im\n",
      "Imagem: https://m.media-amazon.com/images/I/41EuVUbliHL._SS135_.jpg\n",
      "Preco: R$47,92\n",
      "----------\n",
      "Nome: Quarta asa: 1\n",
      "Link: https://www.amazon.com.br/dp/8542225856/?coliid=I3DJVLPNARH6H4&colid=3TSX9V5QWRN9R&psc=1&ref_=list_c_wl_lv_vv_lig_dp_it_im\n",
      "Imagem: https://m.media-amazon.com/images/I/61in0ogKvdL._SS135_.jpg\n",
      "Preco: R$68,88\n",
      "----------\n",
      "Nome: O deus e a raposa – A romantasia para fãs de doramas\n",
      "Link: https://www.amazon.com.br/dp/655970436X/?coliid=I3SQ6SDMWTKAXL&colid=3TSX9V5QWRN9R&psc=1&ref_=list_c_wl_lv_vv_lig_dp_it_im\n",
      "Imagem: https://m.media-amazon.com/images/I/51+Tcd9ftlL._SS135_.jpg\n",
      "Preco: R$48,19\n",
      "----------\n",
      "Nome: A empregada está de olho (A empregada – Livro 3)\n",
      "Link: https://www.amazon.com.br/dp/6555656751/?coliid=I2CUEF1XKSJVTC&colid=3TSX9V5QWRN9R&psc=1&ref_=list_c_wl_lv_vv_lig_dp_it_im\n",
      "Imagem: https://m.media-amazon.com/images/I/41ck6ZAafcL._SS135_.jpg\n",
      "Preco: R$44,95\n",
      "----------\n",
      "Nome: O segredo da empregada (A empregada – Livro 2)\n",
      "Link: https://www.amazon.com.br/dp/6555655941/?coliid=I3CT14R16V3RKB&colid=3TSX9V5QWRN9R&psc=1&ref_=list_c_wl_lv_vv_lig_dp_it_im\n",
      "Imagem: https://m.media-amazon.com/images/I/41k1qc47m6L._SS135_.jpg\n",
      "Preco: R$45,32\n",
      "----------\n",
      "Nome: A empregada (A empregada – Livro 1): Bem-vinda à família\n",
      "Link: https://www.amazon.com.br/dp/6555655062/?coliid=I3468IXZ5VIY8W&colid=3TSX9V5QWRN9R&psc=1&ref_=list_c_wl_lv_vv_lig_dp_it_im\n",
      "Imagem: https://m.media-amazon.com/images/I/41ziC4vXKBL._SS135_.jpg\n",
      "Preco: Mais vendido\n",
      "----------\n",
      "Nome: Jantar secreto\n",
      "Link: https://www.amazon.com.br/dp/8535928359/?coliid=I27T3E79S94MJC&colid=3TSX9V5QWRN9R&psc=1&ref_=list_c_wl_lv_vv_lig_dp_it_im\n",
      "Imagem: https://m.media-amazon.com/images/I/41xDq3pat9L._SS135_.jpg\n",
      "Preco: R$38,94\n",
      "----------\n"
     ]
    }
   ],
   "source": [
    "\n",
    "nome_lista = extrair_nome_lista(soup)\n",
    "print(f'Lista: {nome_lista} - Carregada com sucesso!')\n",
    "\n",
    "\n",
    "itens_lista = extrair_itens_lista(soup)\n",
    "if itens_lista:\n",
    "    print(f'Itens encontrados na lista: {len(itens_lista)}\\n')\n",
    "    for item in itens_lista:\n",
    "        for chave, valor in item.items():\n",
    "            print(f'{chave.capitalize()}: {valor}')\n",
    "        print(f'----------')\n",
    "    \n",
    "else:\n",
    "    print(f'Itens da lista não encontrados')\n"
   ]
  },
  {
   "cell_type": "markdown",
   "id": "78822c06-8f34-4ceb-8b1c-ab3c15eba4e1",
   "metadata": {},
   "source": [
    "## Fechar navegador"
   ]
  },
  {
   "cell_type": "code",
   "execution_count": 61,
   "id": "bee54f5d-5ab9-4791-84e8-adc611904eb7",
   "metadata": {},
   "outputs": [
    {
     "name": "stdout",
     "output_type": "stream",
     "text": [
      "Tempo total do script: 13.86 segundos\n"
     ]
    }
   ],
   "source": [
    "driver.quit()\n",
    "\n",
    "\n",
    "fim_script = time.time()\n",
    "tempo_total_script = fim_script - inicio_script\n",
    "\n",
    "print(f'Tempo total do script: {tempo_total_script:.2f} segundos')"
   ]
  },
  {
   "cell_type": "code",
   "execution_count": null,
   "id": "e8b3a683-760a-400c-a02c-dd1d485d6ddf",
   "metadata": {},
   "outputs": [],
   "source": []
  }
 ],
 "metadata": {
  "kernelspec": {
   "display_name": "Python 3 (ipykernel)",
   "language": "python",
   "name": "python3"
  },
  "language_info": {
   "codemirror_mode": {
    "name": "ipython",
    "version": 3
   },
   "file_extension": ".py",
   "mimetype": "text/x-python",
   "name": "python",
   "nbconvert_exporter": "python",
   "pygments_lexer": "ipython3",
   "version": "3.12.3"
  }
 },
 "nbformat": 4,
 "nbformat_minor": 5
}
