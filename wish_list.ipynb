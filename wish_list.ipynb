{
 "cells": [
  {
   "cell_type": "code",
   "execution_count": 145,
   "id": "45369cb4-e4e4-4b95-b176-f2226c84988e",
   "metadata": {},
   "outputs": [],
   "source": [
    "from bs4 import BeautifulSoup\n",
    "import requests\n",
    "from selenium import webdriver\n",
    "import time\n",
    "from datetime import datetime\n",
    "import re\n"
   ]
  },
  {
   "cell_type": "markdown",
   "id": "39d4e7f4-8fc5-4c15-a208-e4bf90913895",
   "metadata": {},
   "source": [
    "## Configurando driver e url\n"
   ]
  },
  {
   "cell_type": "code",
   "execution_count": 147,
   "id": "fcbe4689-5d04-45f6-b392-526c750eeca1",
   "metadata": {},
   "outputs": [
    {
     "name": "stdout",
     "output_type": "stream",
     "text": [
      "Sucesso ao acessar: Amazon.com.br\n"
     ]
    }
   ],
   "source": [
    "inicio_script = time.time()\n",
    "\n",
    "\n",
    "driver = webdriver.Chrome()\n",
    "\n",
    "url = 'https://www.amazon.com.br/hz/wishlist/ls/2FJRI71SN2K0L?ref_=wl_share' #Coloque aqui o link da sua wishlist\n",
    "\n",
    "driver.get(url)\n",
    "\n",
    "if driver.title: #se captar o título da página = sucesso\n",
    "    print(f'Sucesso ao acessar: {driver.title}')\n",
    "else:\n",
    "    print(f'Erro ao acessar.')\n",
    "\n",
    "\n"
   ]
  },
  {
   "cell_type": "markdown",
   "id": "d20571f4-57fb-4188-b26f-5e71ce670fda",
   "metadata": {},
   "source": [
    "## Carregando nome da lista de compras"
   ]
  },
  {
   "cell_type": "code",
   "execution_count": 149,
   "id": "986ce0da-8e5d-43c4-9d96-bb936823e432",
   "metadata": {},
   "outputs": [
    {
     "name": "stdout",
     "output_type": "stream",
     "text": [
      "Lista: \"Comprinhas\" carregada com sucesso!\n"
     ]
    }
   ],
   "source": [
    "html = driver.page_source\n",
    "\n",
    "soup = BeautifulSoup(html, 'html.parser')\n",
    "\n",
    "nome_lista = soup.find('span', {'id': 'profile-list-name'})\n",
    "if nome_lista:\n",
    "    print(f'Lista: \"{nome_lista.text}\" carregada com sucesso!')\n",
    "else:\n",
    "    print(f'Nome da lista de compras não encontrada')\n"
   ]
  },
  {
   "cell_type": "markdown",
   "id": "26afee38-223b-40f5-9331-eda0c97f6ce6",
   "metadata": {},
   "source": [
    "## Funções"
   ]
  },
  {
   "cell_type": "code",
   "execution_count": 151,
   "id": "48d5a43d-495a-419f-9c3e-fdee6e47af13",
   "metadata": {},
   "outputs": [],
   "source": [
    "def extrair_nome_lista(soup):\n",
    "    nome_lista = soup.find('span', {'id': 'profile-list-name'})\n",
    "    return nome_lista.text if nome_lista else 'Nome não encontrado'\n",
    "\n",
    "def obter_data_extracao():\n",
    "    return datetime.now().strftime(\"%Y-%m-%d %H:%M:%S\")\n",
    "\n",
    "def extrair_itens_lista(soup):\n",
    "    itens = soup.find_all('li', {'class': 'g-item-sortable'})\n",
    "    data_extracao = obter_data_extracao()\n",
    "    return [extrair_dados_itens(item, data_extracao) for item in itens]\n",
    "    \n",
    "\n",
    "\n",
    "def extrair_dados_itens(item, data_extracao):\n",
    "    dados_item = {}\n",
    "    dados_item['nome'] = item.find('a', {'class': 'a-link-normal'}).get('title', 'Nome não encontrado')\n",
    "    dados_item['link'] = f\"https://www.amazon.com.br{item.find('a', {'class': 'a-link-normal'}).get('href', '')}\"\n",
    "    dados_item['imagem'] = item.find('img').get('src', 'Imagem não encontrada') if item.find('img') else 'Imagem não encontrada'\n",
    "    dados_item['asin'] = extrair_codigo_asin(dados_item['link'])\n",
    "    \n",
    "    elemento_preco = item.find('span', {'class': 'a-price'})\n",
    "    if elemento_preco:\n",
    "        preco = elemento_preco.find('span', {'aria-hidden': 'true'}).text.strip()\n",
    "    else:\n",
    "        preco = 'Preço indisponível'\n",
    "    dados_item['preco'] = preco\n",
    "\n",
    "    dados_item['data_extracao'] = data_extracao\n",
    "    return dados_item\n",
    "\n",
    "\n",
    "def extrair_codigo_asin(link):\n",
    "    pattern = r\"/[dg]p/([A-Z0-9]{10})(/|$|\\?)\"\n",
    "    match = re.search(pattern, link)\n",
    "\n",
    "    if match:\n",
    "        asin = match.group(1).upper()\n",
    "        return asin\n",
    "    return None\n",
    "\n",
    "\n",
    "\n"
   ]
  },
  {
   "cell_type": "markdown",
   "id": "af1076dc-2f90-495e-ba43-2d7dc4d28c29",
   "metadata": {},
   "source": [
    "## Principal"
   ]
  },
  {
   "cell_type": "code",
   "execution_count": 153,
   "id": "71996626-7ca1-4454-8a10-6e2badb23257",
   "metadata": {},
   "outputs": [
    {
     "name": "stdout",
     "output_type": "stream",
     "text": [
      "Lista: Comprinhas - Carregada com sucesso!\n",
      "Itens encontrados na lista: 9\n",
      "\n",
      "Nome: Head First Software Architecture: A Learner's Guide to Architectural Thinking\n",
      "Link: https://www.amazon.com.br/dp/1098134354/?coliid=I3IDR2BYJ3VHXT&colid=2FJRI71SN2K0L&psc=1&ref_=list_c_wl_gv_vv_lig_pi_dp\n",
      "Imagem: https://m.media-amazon.com/images/I/41bxpv6bl4L._SS220_.jpg\n",
      "Asin: 1098134354\n",
      "Preco: R$382,39\n",
      "Data_extracao: 2025-03-04 15:27:49\n",
      "----------\n",
      "Nome: Cabo de rede HP Cat.6 Blindado 2metros Azul DHC-CAT6-FTP - 8WW60AA\n",
      "Link: https://www.amazon.com.br/dp/B08JZCCZ35/?coliid=I30XMCPHNDLIY2&colid=2FJRI71SN2K0L&psc=0&ref_=list_c_wl_gv_vv_lig_pi_dp\n",
      "Imagem: https://m.media-amazon.com/images/I/41og2oYjSqL._SS220_.jpg\n",
      "Asin: B08JZCCZ35\n",
      "Preco: Preço indisponível\n",
      "Data_extracao: 2025-03-04 15:27:49\n",
      "----------\n",
      "Nome: Mentes Extraordinárias - Pocket: Edição compacta\n",
      "Link: https://www.amazon.com.br/dp/8550304085/?coliid=I27UY1A33WVL0L&colid=2FJRI71SN2K0L&psc=1&ref_=list_c_wl_gv_vv_lig_pi_dp\n",
      "Imagem: https://m.media-amazon.com/images/I/41+B-dlRxyL._SS220_.jpg\n",
      "Asin: 8550304085\n",
      "Preco: R$11,32\n",
      "Data_extracao: 2025-03-04 15:27:49\n",
      "----------\n",
      "Nome: PlayStation®5 Slim Disk + 2 Jogos\n",
      "Link: https://www.amazon.com.br/dp/B0CSPNDPKG/?coliid=IX1KXNFRV4FZS&colid=2FJRI71SN2K0L&psc=1&ref_=list_c_wl_gv_vv_lig_pi_dp\n",
      "Imagem: https://m.media-amazon.com/images/I/41T0qP62Z4L._SS220_.jpg\n",
      "Asin: B0CSPNDPKG\n",
      "Preco: R$3.998,00\n",
      "Data_extracao: 2025-03-04 15:27:49\n",
      "----------\n",
      "Nome: A hipótese do amor: Capítulo Extra\n",
      "Link: https://www.amazon.com.br/dp/B0BDP8T4BM/?coliid=IU4PD6X0B79Z6&colid=2FJRI71SN2K0L&psc=0&ref_=list_c_wl_gv_vv_lig_pi_dp\n",
      "Imagem: https://m.media-amazon.com/images/I/41vCo6upR+L._SS220_.jpg\n",
      "Asin: B0BDP8T4BM\n",
      "Preco: R$0,00\n",
      "Data_extracao: 2025-03-04 15:27:49\n",
      "----------\n",
      "Nome: A empregada (A empregada – Livro 1): Bem-vinda à família\n",
      "Link: https://www.amazon.com.br/dp/6555655062/?coliid=I2FOCHYVGJ9MM6&colid=2FJRI71SN2K0L&psc=1&ref_=list_c_wl_gv_vv_lig_pi_dp\n",
      "Imagem: https://m.media-amazon.com/images/I/41ziC4vXKBL._SS220_.jpg\n",
      "Asin: 6555655062\n",
      "Preco: R$44,83\n",
      "Data_extracao: 2025-03-04 15:27:49\n",
      "----------\n",
      "Nome: Capa Case Para Notebook de 15,6 Polegadas\n",
      "Link: https://www.amazon.com.br/dp/B078ZJWFMD/?coliid=I1AQ6QKLO09Y2S&colid=2FJRI71SN2K0L&psc=1&ref_=list_c_wl_gv_vv_lig_pi_dp\n",
      "Imagem: https://m.media-amazon.com/images/I/31w4jVaysfL._SS220_.jpg\n",
      "Asin: B078ZJWFMD\n",
      "Preco: R$39,90\n",
      "Data_extracao: 2025-03-04 15:27:49\n",
      "----------\n",
      "Nome: A divina comédia: Edição com brinde - pôster exclusivo\n",
      "Link: https://www.amazon.com.br/dp/6559100154/?coliid=I24DLVM7R49BX1&colid=2FJRI71SN2K0L&psc=1&ref_=list_c_wl_gv_vv_lig_pi_dp\n",
      "Imagem: https://m.media-amazon.com/images/I/415DIokyyHL._SS220_.jpg\n",
      "Asin: 6559100154\n",
      "Preco: R$97,12\n",
      "Data_extracao: 2025-03-04 15:27:49\n",
      "----------\n",
      "Nome: Controle Usb Snes Super Nintendo Para Pc Raspberry Mac Linux\n",
      "Link: https://www.amazon.com.br/dp/B07DC2SMWC/?coliid=I32DGOWNGJNIW9&colid=2FJRI71SN2K0L&psc=1&ref_=list_c_wl_gv_vv_lig_pi_dp\n",
      "Imagem: https://m.media-amazon.com/images/I/31wd6xQR4DL._SS220_.jpg\n",
      "Asin: B07DC2SMWC\n",
      "Preco: R$24,75\n",
      "Data_extracao: 2025-03-04 15:27:49\n",
      "----------\n"
     ]
    }
   ],
   "source": [
    "\n",
    "nome_lista = extrair_nome_lista(soup)\n",
    "print(f'Lista: {nome_lista} - Carregada com sucesso!')\n",
    "\n",
    "\n",
    "itens_lista = extrair_itens_lista(soup)\n",
    "if itens_lista:\n",
    "    print(f'Itens encontrados na lista: {len(itens_lista)}\\n')\n",
    "    for item in itens_lista:\n",
    "        for chave, valor in item.items():\n",
    "            print(f'{chave.capitalize()}: {valor}')\n",
    "        print(f'----------')\n",
    "    \n",
    "else:\n",
    "    print(f'Itens da lista não encontrados')\n"
   ]
  },
  {
   "cell_type": "markdown",
   "id": "78822c06-8f34-4ceb-8b1c-ab3c15eba4e1",
   "metadata": {},
   "source": [
    "## Fechar navegador"
   ]
  },
  {
   "cell_type": "code",
   "execution_count": 155,
   "id": "bee54f5d-5ab9-4791-84e8-adc611904eb7",
   "metadata": {},
   "outputs": [
    {
     "name": "stdout",
     "output_type": "stream",
     "text": [
      "Tempo total do script: 51.43 segundos\n"
     ]
    }
   ],
   "source": [
    "driver.quit()\n",
    "\n",
    "\n",
    "fim_script = time.time()\n",
    "tempo_total_script = fim_script - inicio_script\n",
    "\n",
    "print(f'Tempo total do script: {tempo_total_script:.2f} segundos')"
   ]
  },
  {
   "cell_type": "code",
   "execution_count": null,
   "id": "e8b3a683-760a-400c-a02c-dd1d485d6ddf",
   "metadata": {},
   "outputs": [],
   "source": []
  }
 ],
 "metadata": {
  "kernelspec": {
   "display_name": "Python 3 (ipykernel)",
   "language": "python",
   "name": "python3"
  },
  "language_info": {
   "codemirror_mode": {
    "name": "ipython",
    "version": 3
   },
   "file_extension": ".py",
   "mimetype": "text/x-python",
   "name": "python",
   "nbconvert_exporter": "python",
   "pygments_lexer": "ipython3",
   "version": "3.12.3"
  }
 },
 "nbformat": 4,
 "nbformat_minor": 5
}
